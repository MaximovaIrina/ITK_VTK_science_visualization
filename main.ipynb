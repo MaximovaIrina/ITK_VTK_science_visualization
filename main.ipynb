{
 "cells": [
  {
   "cell_type": "code",
   "execution_count": null,
   "source": [
    "import itk\n",
    "import vtk\n",
    "import os"
   ],
   "outputs": [],
   "metadata": {}
  },
  {
   "cell_type": "code",
   "execution_count": 75,
   "source": [
    "dicoms_dir = 'data/pulmonary'\n",
    "image_3d_path = 'data/3d_pulmonary.mha' \n",
    "image_3d_seg_path = 'data/3d_pulmonary_seg.mha' "
   ],
   "outputs": [],
   "metadata": {}
  },
  {
   "cell_type": "markdown",
   "source": [
    "# 1. Read image"
   ],
   "metadata": {}
  },
  {
   "cell_type": "code",
   "execution_count": 66,
   "source": [
    "def DICOMsTo3Dimage(data_dir, out_file):\n",
    "    namesGenerator = itk.GDCMSeriesFileNames.New()\n",
    "    namesGenerator.SetUseSeriesDetails(True)\n",
    "    namesGenerator.AddSeriesRestriction(\"0008|0021\")\n",
    "    namesGenerator.SetGlobalWarningDisplay(False)\n",
    "    namesGenerator.SetDirectory(data_dir)\n",
    "\n",
    "    seriesUID = namesGenerator.GetSeriesUIDs()\n",
    "\n",
    "    assert len(seriesUID), \"No DICOMs in: \" + data_dir\n",
    "\n",
    "    seriesIdentifier = seriesUID[0]\n",
    "    fileNames = namesGenerator.GetFileNames(seriesIdentifier)\n",
    "\n",
    "    reader = itk.ImageSeriesReader.New(\n",
    "        ImageIO=itk.GDCMImageIO.New(),\n",
    "        FileNames=fileNames,\n",
    "        ForceOrthogonalDirection=False\n",
    "    )\n",
    "\n",
    "    writer = itk.ImageFileWriter.New(\n",
    "        Input=reader,\n",
    "        FileName=out_file,\n",
    "        UseCompression=True\n",
    "    )\n",
    "    writer.Update()"
   ],
   "outputs": [],
   "metadata": {}
  },
  {
   "cell_type": "code",
   "execution_count": 70,
   "source": [
    "# Read DICOM series\n",
    "if not os.path.isfile(image_3d_path):\n",
    "    DICOMsTo3Dimage(dicoms_dir, image_3d_path)\n",
    "    print(\"Created 3d image from dcm series\")\n",
    "\n",
    "# Read 3d image\n",
    "image = itk.imread(image_3d_path)\n",
    "\n",
    "print(\"Image size: \", itk.size(image))\n",
    "print(\"Image type: \", itk.template(image)[-1])"
   ],
   "outputs": [
    {
     "output_type": "stream",
     "name": "stdout",
     "text": [
      "Image size:  itkSize3 ([888, 1100, 28])\n",
      "Image type:  (<itkCType signed short>, 3)\n"
     ]
    }
   ],
   "metadata": {}
  },
  {
   "cell_type": "markdown",
   "source": [
    "# 2. Preprocessing"
   ],
   "metadata": {}
  },
  {
   "cell_type": "code",
   "execution_count": null,
   "source": [
    "# Clipping\n",
    "cropper = itk.ExtractImageFilter.New(Input=image)\n",
    "cropper.SetDirectionCollapseToIdentity()\n",
    "extraction_region = cropper.GetExtractionRegion()\n",
    "extraction_region.SetIndex([235, 420, 1])\n",
    "extraction_region.SetSize([410, 290, 25])\n",
    "cropper.SetExtractionRegion(extraction_region)\n",
    "cropper.Update()\n",
    "\n",
    "# Normalize image\n",
    "img_normalized = itk.RescaleIntensityImageFilter.New(\n",
    "    Input=cropper,\n",
    "    OutputMinimum=0,\n",
    "    OutputMaximum=255\n",
    ")\n",
    "\n",
    "# Bluring\n",
    "img_normalized_f = itk.CastImageFilter[itk.Image[itk.SS,3], itk.Image[itk.F,3]].New(Input=img_normalized)\n",
    "diffusion = itk.GradientAnisotropicDiffusionImageFilter.New(Input=img_normalized_f, TimeStep=0.005)"
   ],
   "outputs": [],
   "metadata": {}
  },
  {
   "cell_type": "markdown",
   "source": [
    "# 3. KMeans segmentation"
   ],
   "metadata": {}
  },
  {
   "cell_type": "code",
   "execution_count": 72,
   "source": [
    "def KMeans_segmetation(image, label, apply_filter=False, region=None):\n",
    "    # Apply KMean segmentation\n",
    "    kmeans = itk.ScalarImageKmeansImageFilter.New(Input=image, ImageRegion=region)\n",
    "    kmeans.AddClassWithInitialMean(0)\n",
    "    kmeans.AddClassWithInitialMean(70)\n",
    "    kmeans.AddClassWithInitialMean(150)\n",
    "    kmeans.AddClassWithInitialMean(250)\n",
    "    kmeans.Update()\n",
    "\n",
    "    # Create label map\n",
    "    kmeans_uc = itk.CastImageFilter[itk.Image[itk.SS,3], itk.Image[itk.UC,3]].New(Input=kmeans)\n",
    "    kmeans_uc.Update()\n",
    "    label_map = itk.LabelImageToLabelMapFilter.New(Input=kmeans_uc)\n",
    "    label_map.Update()\n",
    "\n",
    "    # Extract labled pixels\n",
    "    obj = itk.LabelMapMaskImageFilter.New(Input=label_map, FeatureImage=kmeans, Label=label)\n",
    "    obj.Update()\n",
    "\n",
    "    # Apply denoise filter\n",
    "    result = obj\n",
    "    if apply_filter:\n",
    "        filtered_obj = itk.MedianImageFilter.New(Input=obj, Radius=[1, 1, 1])\n",
    "        filtered_obj.Update()\n",
    "        result = filtered_obj\n",
    "    \n",
    "    return result"
   ],
   "outputs": [],
   "metadata": {}
  },
  {
   "cell_type": "code",
   "execution_count": 73,
   "source": [
    "# Extract sceleton by KMeans segmentation\n",
    "skeleton_region = diffusion.GetOutput().GetLargestPossibleRegion()\n",
    "skeleton_region.SetIndex([235, 420, 1])\n",
    "skeleton_region.SetSize([410, 289, 25])\n",
    "skeleton = KMeans_segmetation(image=diffusion, label=3, apply_filter=0, region=skeleton_region)\n",
    "\n",
    "# Extract lungs by KMeans segmentation\n",
    "lungs_region    = diffusion.GetOutput().GetLargestPossibleRegion()\n",
    "lungs_region.SetIndex([250, 450,  1])\n",
    "lungs_region.SetSize([ 380, 200, 25])\n",
    "lungs    = KMeans_segmetation(image=diffusion, label=1, apply_filter=1, region=lungs_region)\n",
    "\n",
    "# Merge sceleton and lungs masks\n",
    "skeleton_lungs = itk.AddImageFilter.New(Input1=lungs, Input2=skeleton)"
   ],
   "outputs": [],
   "metadata": {}
  },
  {
   "cell_type": "markdown",
   "source": [
    "# 4. Add unsegmented values as background "
   ],
   "metadata": {}
  },
  {
   "cell_type": "code",
   "execution_count": 76,
   "source": [
    "# Set background mask\n",
    "background_mask = itk.BinaryThresholdImageFilter.New(\n",
    "    Input=skeleton_lungs,\n",
    "    LowerThreshold=1,\n",
    "    InsideValue=0,\n",
    "    OutsideValue=1,\n",
    ")\n",
    "\n",
    "# Set the background values to be different from the segment values\n",
    "background = itk.RescaleIntensityImageFilter.New(\n",
    "    Input=img_normalized,\n",
    "    OutputMinimum=4,\n",
    "    OutputMaximum=255\n",
    ")\n",
    "\n",
    "# Separate the background squeaks from the general  \n",
    "background_masked = itk.MultiplyImageFilter.New(\n",
    "    Input1=background,\n",
    "    Input2=background_mask,\n",
    ")\n",
    "\n",
    "# Combine segments and background\n",
    "join = itk.AddImageFilter.New(\n",
    "    Input1=skeleton_lungs,\n",
    "    Input2=background_masked,\n",
    ")\n",
    "\n",
    "itk.imwrite(join, image_3d_seg_path)"
   ],
   "outputs": [],
   "metadata": {}
  },
  {
   "cell_type": "markdown",
   "source": [
    "# 5. VTK visualization"
   ],
   "metadata": {}
  },
  {
   "cell_type": "code",
   "execution_count": 78,
   "source": [
    "def Slider(interactor, range, x, y, title, default_value=None, callback=lambda x: x):\n",
    "    # Set slider properties\n",
    "    slider = vtk.vtkSliderRepresentation2D()\n",
    "    slider.SetTitleText(title)\n",
    "    slider.SetMinimumValue(range[0])\n",
    "    slider.SetMaximumValue(range[-1])\n",
    "    slider.SetValue(default_value)\n",
    "    slider.ShowSliderLabelOn()\n",
    "    slider.SetSliderWidth(0.03)\n",
    "    slider.SetSliderLength(0.0001)\n",
    "    slider.SetEndCapWidth(0)\n",
    "    slider.SetTitleHeight(0.02)\n",
    "    slider.SetTubeWidth(0.005)\n",
    "    \n",
    "    # Set the slider position\n",
    "    slider.GetPoint1Coordinate().SetCoordinateSystemToNormalizedDisplay()\n",
    "    slider.GetPoint1Coordinate().SetValue(x, y)\n",
    "    slider.GetPoint2Coordinate().SetCoordinateSystemToNormalizedDisplay()\n",
    "    slider.GetPoint2Coordinate().SetValue(x + 0.25, y)\n",
    "\n",
    "    # Add the slider to the UI\n",
    "    sliderWidget = vtk.vtkSliderWidget()\n",
    "    sliderWidget.SetInteractor(interactor)\n",
    "    sliderWidget.SetRepresentation(slider)\n",
    "    sliderWidget.EnabledOn()\n",
    "    \n",
    "    # Add callback\n",
    "    def _cb(s, *args):\n",
    "        slider_representation = s.GetSliderRepresentation()\n",
    "        value = slider_representation.GetValue()\n",
    "        callback(value)\n",
    "    sliderWidget.AddObserver(\"InteractionEvent\", _cb)\n",
    "    return sliderWidget"
   ],
   "outputs": [],
   "metadata": {}
  },
  {
   "cell_type": "code",
   "execution_count": 79,
   "source": [
    "image = itk.vtk_image_from_image(itk.imread(image_3d_seg_path))\n",
    "\n",
    "mapper = vtk.vtkGPUVolumeRayCastMapper()\n",
    "mapper.SetInputData(image)\n",
    "\n",
    "volume = vtk.vtkVolume()\n",
    "volume.SetMapper(mapper)\n",
    "volumeProperty = volume.GetProperty()\n",
    "\n",
    "GREEN = (0, 1, 0)\n",
    "BLUE  = (0, 0, 1)\n",
    "BLACK = (0, 0, 0)\n",
    "WHITE = (1, 1, 1)\n",
    "\n",
    "colorDefault = vtk.vtkColorTransferFunction()\n",
    "colorDefault.AddRGBPoint(0, *BLACK)\n",
    "colorDefault.AddRGBPoint(1, *GREEN)\n",
    "colorDefault.AddRGBPoint(2, *BLACK)\n",
    "colorDefault.AddRGBPoint(3, *BLUE)\n",
    "colorDefault.AddRGBSegment(4, *BLACK, 255, *WHITE)\n",
    "\n",
    "opacityDefault = vtk.vtkPiecewiseFunction()\n",
    "opacityDefault.AddPoint(0, 0)\n",
    "opacityDefault.AddPoint(1, 0.05)\n",
    "opacityDefault.AddPoint(2, 0)\n",
    "opacityDefault.AddPoint(3, 0)\n",
    "opacityDefault.AddSegment(4, 0., 255, 0.01)\n",
    "\n",
    "volumeProperty.SetColor(colorDefault)\n",
    "volumeProperty.SetScalarOpacity(opacityDefault)\n",
    "volumeProperty.SetInterpolationTypeToNearest()\n",
    "\n",
    "renderer = vtk.vtkRenderer()\n",
    "renderer.AddVolume(volume)\n",
    "\n",
    "renderWindow = vtk.vtkRenderWindow()\n",
    "renderWindow.AddRenderer(renderer)\n",
    "\n",
    "interactor = vtk.vtkRenderWindowInteractor()\n",
    "interactor.SetRenderWindow(renderWindow)\n",
    "\n",
    "cb_opacity_lungs = lambda x : opacityDefault.AddPoint(1, x)\n",
    "cb_opactiy_sceleton = lambda x : opacityDefault.AddPoint(3, x)\n",
    "cb_opacity_background = lambda x : opacityDefault.AddSegment(4, 0., 255, x)\n",
    "\n",
    "s1 = Slider(interactor=interactor, range=(0, 1), x=0.7, y=0.45, title=\"Lungs opacity\",       default_value=0.05, callback=cb_opacity_lungs)\n",
    "s2 = Slider(interactor=interactor, range=(0, 1), x=0.7, y=0.30, title=\"Sceleton opacity\",    default_value=0,    callback=cb_opactiy_sceleton)\n",
    "s3 = Slider(interactor=interactor, range=(0, 1), x=0.7, y=0.15, title=\"Background opacity\",  default_value=0.01, callback=cb_opacity_background)\n",
    "\n",
    "renderWindow.SetSize(500, 200)\n",
    "renderWindow.Render()\n",
    "interactor.Start()"
   ],
   "outputs": [],
   "metadata": {}
  },
  {
   "cell_type": "code",
   "execution_count": null,
   "source": [],
   "outputs": [],
   "metadata": {}
  }
 ],
 "metadata": {
  "interpreter": {
   "hash": "209a6e2e26735107c5dc8dcee564f6ea77704505fe19ccbe227ade0525bb5048"
  },
  "kernelspec": {
   "name": "python3",
   "display_name": "Python 3.7.12 64-bit ('venv': venv)"
  },
  "language_info": {
   "codemirror_mode": {
    "name": "ipython",
    "version": 3
   },
   "file_extension": ".py",
   "mimetype": "text/x-python",
   "name": "python",
   "nbconvert_exporter": "python",
   "pygments_lexer": "ipython3",
   "version": "3.7.12"
  }
 },
 "nbformat": 4,
 "nbformat_minor": 2
}